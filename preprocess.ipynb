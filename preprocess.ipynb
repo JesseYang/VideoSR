{
 "cells": [
  {
   "cell_type": "code",
   "execution_count": 1,
   "metadata": {},
   "outputs": [],
   "source": [
    "import cv2\n",
    "import os\n",
    "import numpy as np\n",
    "import shutil"
   ]
  },
  {
   "cell_type": "code",
   "execution_count": 2,
   "metadata": {},
   "outputs": [],
   "source": [
    "def get_frames(video_path):\n",
    "    cap = cv2.VideoCapture(video_path)\n",
    "    total_frame = int(cap.get(cv2.CAP_PROP_FRAME_COUNT))\n",
    "    frames = [cap.read()[1] for _ in range(total_frame)]\n",
    "    \n",
    "    return frames"
   ]
  },
  {
   "cell_type": "code",
   "execution_count": 3,
   "metadata": {},
   "outputs": [],
   "source": [
    "def build_tensors(frames, gap = 1):\n",
    "    return [np.stack((frames[i],frames[i+1]), axis = -1) for i in range(len(frames)-1)]"
   ]
  },
  {
   "cell_type": "code",
   "execution_count": 4,
   "metadata": {},
   "outputs": [],
   "source": [
    "# 如果设为True，将从整个`raw_data`文件夹读取，并将清空整个`target_dir`文件夹\n",
    "is_flash = True"
   ]
  },
  {
   "cell_type": "code",
   "execution_count": 5,
   "metadata": {},
   "outputs": [],
   "source": [
    "target_dir = 'data'"
   ]
  },
  {
   "cell_type": "code",
   "execution_count": 6,
   "metadata": {},
   "outputs": [
    {
     "name": "stdout",
     "output_type": "stream",
     "text": [
      "重建了data文件夹\n"
     ]
    }
   ],
   "source": [
    "if is_flash:\n",
    "    if os.path.isdir(target_dir):\n",
    "        shutil.rmtree(target_dir)\n",
    "    os.mkdir(target_dir)\n",
    "    print('重建了data文件夹')"
   ]
  },
  {
   "cell_type": "code",
   "execution_count": 7,
   "metadata": {},
   "outputs": [],
   "source": [
    "raw_data_dirs = []\n",
    "if is_flash:\n",
    "    raw_data_dirs = [os.path.join('raw_data', i) for i in os.listdir('raw_data')]"
   ]
  },
  {
   "cell_type": "code",
   "execution_count": 8,
   "metadata": {},
   "outputs": [
    {
     "name": "stdout",
     "output_type": "stream",
     "text": [
      "['raw_data/20171126']\n"
     ]
    }
   ],
   "source": [
    "print(raw_data_dirs)"
   ]
  },
  {
   "cell_type": "code",
   "execution_count": 9,
   "metadata": {
    "scrolled": true
   },
   "outputs": [
    {
     "name": "stdout",
     "output_type": "stream",
     "text": [
      "total clips: 16\n"
     ]
    }
   ],
   "source": [
    "raw_data_path_collections = [os.path.join(dirpath,filename) for each_dir in raw_data_dirs for dirpath, dirnames, filenames in os.walk(each_dir) for filename in filenames]\n",
    "print('total clips:', len(raw_data_path_collections))"
   ]
  },
  {
   "cell_type": "code",
   "execution_count": 11,
   "metadata": {},
   "outputs": [
    {
     "name": "stdout",
     "output_type": "stream",
     "text": [
      "VID_20171126_151854.mp4 935\n",
      "VID_20171126_145146.mp4 958\n",
      "VID_20171126_151745.mp4 1000\n",
      "VID_20171126_145635.mp4 1095\n",
      "VID_20171126_145235.mp4 965\n",
      "VID_20171126_144954.mp4 956\n",
      "VID_20171126_145336.mp4 998\n",
      "VID_20171126_145810.mp4 1169\n",
      "VID_20171126_145537.mp4 946\n",
      "VID_20171126_144414.mp4 971\n",
      "VID_20171126_151658.mp4 1052\n",
      "VID_20171126_144333.mp4 962\n",
      "VID_20171126_145932.mp4 936\n",
      "VID_20171126_151034.mp4 923\n",
      "VID_20171126_150409.mp4 1021\n",
      "VID_20171126_150100.mp4 995\n"
     ]
    }
   ],
   "source": [
    "for i in raw_data_path_collections:\n",
    "    directory, filename = i.split('/')[-2:]\n",
    "    frames_rgb = get_frames(i)\n",
    "    frames_y = [cv2.cvtColor(i, cv2.COLOR_BGR2YCR_CB)[:,:,0] for i in frames_rgb]\n",
    "    target_dir_path = os.path.join(target_dir,filename.split('.')[0])\n",
    "    if os.path.isdir(target_dir_path):\n",
    "        shutil.rmtree(target_dir_path)\n",
    "    os.mkdir(target_dir_path)\n",
    "    for frame_idx, j in enumerate(frames_y):\n",
    "        target_path = os.path.join(target_dir_path, '{}.png'.format(frame_idx))\n",
    "        cv2.imwrite(target_path, j)\n",
    "    print(filename, frame_idx+1)"
   ]
  },
  {
   "cell_type": "code",
   "execution_count": null,
   "metadata": {},
   "outputs": [],
   "source": []
  }
 ],
 "metadata": {
  "kernelspec": {
   "display_name": "Python 3",
   "language": "python",
   "name": "python3"
  },
  "language_info": {
   "codemirror_mode": {
    "name": "ipython",
    "version": 3
   },
   "file_extension": ".py",
   "mimetype": "text/x-python",
   "name": "python",
   "nbconvert_exporter": "python",
   "pygments_lexer": "ipython3",
   "version": "3.5.2"
  }
 },
 "nbformat": 4,
 "nbformat_minor": 2
}
