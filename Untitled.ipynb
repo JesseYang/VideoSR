{
 "cells": [
  {
   "cell_type": "code",
   "execution_count": 3,
   "metadata": {},
   "outputs": [],
   "source": [
    "import os\n",
    "import cv2\n",
    "import threading"
   ]
  },
  {
   "cell_type": "code",
   "execution_count": 4,
   "metadata": {},
   "outputs": [],
   "source": [
    "def get_frames(video_path):\n",
    "    cap = cv2.VideoCapture(video_path)\n",
    "    total_frame = int(cap.get(cv2.CAP_PROP_FRAME_COUNT))\n",
    "    frames = (cap.read()[1] for _ in range(total_frame))\n",
    "    \n",
    "    return frames"
   ]
  },
  {
   "cell_type": "code",
   "execution_count": 7,
   "metadata": {},
   "outputs": [],
   "source": [
    "def collect_video_data(video_dir, target_dir):\n",
    "    \"\"\"it will capture all frames of each video and save frames with same file tree in target_dir which is named of video's name\n",
    "    \"\"\"\n",
    "    video_data_path_collections = (os.path.join(dirpath,filename) for dirpath, dirnames, filenames in os.walk(video_dir, followlinks = True) for filename in filenames)\n",
    "    # print(*video_data_path_collections, sep = '\\n')\n",
    "    print('total videoes:', len(list(video_data_path_collections)))\n",
    "    for video_data_path in video_data_path_collections:\n",
    "        path = os.path.join(target_dir, video_data_path[len('video_data') + 1: ])\n",
    "        os.makedirs(path)\n",
    "        \n",
    "        time.sleep(1)\n",
    "        frames = get_frames(video_data_path)\n",
    "        for idx, frame in enumerate(frames):\n",
    "            cv2.imwrite(os.path.join(path, '{}.png'.format(idx)), frame)\n",
    "        print(video_data_path)"
   ]
  },
  {
   "cell_type": "code",
   "execution_count": 8,
   "metadata": {},
   "outputs": [
    {
     "name": "stdout",
     "output_type": "stream",
     "text": [
      "video_data/VideoSR/60/VID_20171128_131305.mp4\n",
      "video_data/VideoSR/60/VID_20171128_080631.mp4\n",
      "video_data/VideoSR/60/VID_20171129_120602.mp4\n",
      "video_data/VideoSR/60/VID_20171127_124919.mp4\n",
      "video_data/VideoSR/60/VID_20171127_133728.mp4\n",
      "video_data/VideoSR/60/VID_20171128_132617.mp4\n",
      "video_data/VideoSR/60/VID_20171129_121706.mp4\n",
      "video_data/VideoSR/60/VID_20171128_131712.mp4\n",
      "video_data/VideoSR/60/VID_20171128_132812.mp4\n",
      "video_data/VideoSR/60/VID_20171129_122117.mp4\n",
      "video_data/VideoSR/60/VID_20171129_122344.mp4\n",
      "video_data/VideoSR/60/VID_20171129_115826.mp4\n",
      "video_data/VideoSR/60/VID_20171129_120436.mp4\n",
      "video_data/VideoSR/60/VID_20171128_132051.mp4\n",
      "video_data/VideoSR/60/VID_20171129_120845.mp4\n",
      "video_data/VideoSR/60/VID_20171127_133331.mp4\n",
      "video_data/VideoSR/60/VID_20171127_123621.mp4\n",
      "video_data/VideoSR/60/VID_20171128_131556.mp4\n",
      "video_data/VideoSR/60/VID_20171127_123857.mp4\n",
      "video_data/VideoSR/60/VID_20171128_131937.mp4\n",
      "video_data/VideoSR/60/VID_20171129_121157.mp4\n",
      "video_data/VideoSR/60/VID_20171127_123702.mp4\n",
      "video_data/VideoSR/60/VID_20171128_132409.mp4\n",
      "video_data/VideoSR/60/VID_20171127_134041.mp4\n",
      "video_data/VideoSR/60/VID_20171127_123512.mp4\n",
      "video_data/VideoSR/60/VID_20171129_120513.mp4\n",
      "video_data/VideoSR/60/VID_20171128_132931.mp4\n",
      "video_data/VideoSR/60/VID_20171128_132544.mp4\n",
      "video_data/VideoSR/60/VID_20171127_124702.mp4\n",
      "video_data/VideoSR/60/VID_20171128_131046.mp4\n",
      "video_data/VideoSR/60/VID_20171128_131222.mp4\n",
      "video_data/VideoSR/60/VID_20171129_121548.mp4\n",
      "video_data/VideoSR/60/VID_20171128_131513.mp4\n"
     ]
    },
    {
     "ename": "OSError",
     "evalue": "[Errno 28] No space left on device: 'frame_seq_data/VideoSR/60/VID_20171129_122516.mp4'",
     "output_type": "error",
     "traceback": [
      "\u001b[0;31m---------------------------------------------------------------------------\u001b[0m",
      "\u001b[0;31mOSError\u001b[0m                                   Traceback (most recent call last)",
      "\u001b[0;32m<ipython-input-8-018087a965ff>\u001b[0m in \u001b[0;36m<module>\u001b[0;34m()\u001b[0m\n\u001b[0;32m----> 1\u001b[0;31m \u001b[0mcollect_video_data\u001b[0m\u001b[0;34m(\u001b[0m\u001b[0;34m'video_data/VideoSR/60'\u001b[0m\u001b[0;34m,\u001b[0m \u001b[0;34m'frame_seq_data'\u001b[0m\u001b[0;34m)\u001b[0m\u001b[0;34m\u001b[0m\u001b[0m\n\u001b[0m",
      "\u001b[0;32m<ipython-input-7-2471fb6cbb2d>\u001b[0m in \u001b[0;36mcollect_video_data\u001b[0;34m(video_dir, target_dir)\u001b[0m\n\u001b[1;32m      7\u001b[0m     \u001b[0;32mfor\u001b[0m \u001b[0mvideo_data_path\u001b[0m \u001b[0;32min\u001b[0m \u001b[0mvideo_data_path_collections\u001b[0m\u001b[0;34m:\u001b[0m\u001b[0;34m\u001b[0m\u001b[0m\n\u001b[1;32m      8\u001b[0m         \u001b[0mpath\u001b[0m \u001b[0;34m=\u001b[0m \u001b[0mos\u001b[0m\u001b[0;34m.\u001b[0m\u001b[0mpath\u001b[0m\u001b[0;34m.\u001b[0m\u001b[0mjoin\u001b[0m\u001b[0;34m(\u001b[0m\u001b[0mtarget_dir\u001b[0m\u001b[0;34m,\u001b[0m \u001b[0mvideo_data_path\u001b[0m\u001b[0;34m[\u001b[0m\u001b[0mlen\u001b[0m\u001b[0;34m(\u001b[0m\u001b[0;34m'video_data'\u001b[0m\u001b[0;34m)\u001b[0m \u001b[0;34m+\u001b[0m \u001b[0;36m1\u001b[0m\u001b[0;34m:\u001b[0m \u001b[0;34m]\u001b[0m\u001b[0;34m)\u001b[0m\u001b[0;34m\u001b[0m\u001b[0m\n\u001b[0;32m----> 9\u001b[0;31m         \u001b[0mos\u001b[0m\u001b[0;34m.\u001b[0m\u001b[0mmakedirs\u001b[0m\u001b[0;34m(\u001b[0m\u001b[0mpath\u001b[0m\u001b[0;34m)\u001b[0m\u001b[0;34m\u001b[0m\u001b[0m\n\u001b[0m\u001b[1;32m     10\u001b[0m         \u001b[0mframes\u001b[0m \u001b[0;34m=\u001b[0m \u001b[0mget_frames\u001b[0m\u001b[0;34m(\u001b[0m\u001b[0mvideo_data_path\u001b[0m\u001b[0;34m)\u001b[0m\u001b[0;34m\u001b[0m\u001b[0m\n\u001b[1;32m     11\u001b[0m         \u001b[0;32mfor\u001b[0m \u001b[0midx\u001b[0m\u001b[0;34m,\u001b[0m \u001b[0mframe\u001b[0m \u001b[0;32min\u001b[0m \u001b[0menumerate\u001b[0m\u001b[0;34m(\u001b[0m\u001b[0mframes\u001b[0m\u001b[0;34m)\u001b[0m\u001b[0;34m:\u001b[0m\u001b[0;34m\u001b[0m\u001b[0m\n",
      "\u001b[0;32m/usr/lib/python3.5/os.py\u001b[0m in \u001b[0;36mmakedirs\u001b[0;34m(name, mode, exist_ok)\u001b[0m\n\u001b[1;32m    239\u001b[0m             \u001b[0;32mreturn\u001b[0m\u001b[0;34m\u001b[0m\u001b[0m\n\u001b[1;32m    240\u001b[0m     \u001b[0;32mtry\u001b[0m\u001b[0;34m:\u001b[0m\u001b[0;34m\u001b[0m\u001b[0m\n\u001b[0;32m--> 241\u001b[0;31m         \u001b[0mmkdir\u001b[0m\u001b[0;34m(\u001b[0m\u001b[0mname\u001b[0m\u001b[0;34m,\u001b[0m \u001b[0mmode\u001b[0m\u001b[0;34m)\u001b[0m\u001b[0;34m\u001b[0m\u001b[0m\n\u001b[0m\u001b[1;32m    242\u001b[0m     \u001b[0;32mexcept\u001b[0m \u001b[0mOSError\u001b[0m\u001b[0;34m:\u001b[0m\u001b[0;34m\u001b[0m\u001b[0m\n\u001b[1;32m    243\u001b[0m         \u001b[0;31m# Cannot rely on checking for EEXIST, since the operating system\u001b[0m\u001b[0;34m\u001b[0m\u001b[0;34m\u001b[0m\u001b[0m\n",
      "\u001b[0;31mOSError\u001b[0m: [Errno 28] No space left on device: 'frame_seq_data/VideoSR/60/VID_20171129_122516.mp4'"
     ]
    }
   ],
   "source": [
    "collect_video_data('video_data/VideoSR/60', 'frame_seq_data')"
   ]
  },
  {
   "cell_type": "code",
   "execution_count": null,
   "metadata": {},
   "outputs": [],
   "source": []
  }
 ],
 "metadata": {
  "kernelspec": {
   "display_name": "Python 3",
   "language": "python",
   "name": "python3"
  },
  "language_info": {
   "codemirror_mode": {
    "name": "ipython",
    "version": 3
   },
   "file_extension": ".py",
   "mimetype": "text/x-python",
   "name": "python",
   "nbconvert_exporter": "python",
   "pygments_lexer": "ipython3",
   "version": "3.5.2"
  }
 },
 "nbformat": 4,
 "nbformat_minor": 2
}
