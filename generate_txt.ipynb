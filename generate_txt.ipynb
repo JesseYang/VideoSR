{
 "cells": [
  {
   "cell_type": "code",
   "execution_count": 1,
   "metadata": {},
   "outputs": [],
   "source": [
    "import os\n",
    "import random\n",
    "import yaml"
   ]
  },
  {
   "cell_type": "code",
   "execution_count": 8,
   "metadata": {},
   "outputs": [
    {
     "name": "stdout",
     "output_type": "stream",
     "text": [
      "{'data': {'own': 'frame_seq_data/VideoSR'}}\n"
     ]
    }
   ],
   "source": [
    "with open('config.yaml') as f:\n",
    "    config = yaml.load(f)\n",
    "print(config)"
   ]
  },
  {
   "cell_type": "code",
   "execution_count": 12,
   "metadata": {},
   "outputs": [
    {
     "name": "stdout",
     "output_type": "stream",
     "text": [
      "own frame_seq_data/VideoSR\n"
     ]
    }
   ],
   "source": [
    "for i in config['data']:\n",
    "    print(i, config['data'][i])"
   ]
  },
  {
   "cell_type": "code",
   "execution_count": 2,
   "metadata": {},
   "outputs": [],
   "source": [
    "from cfgs.config import cfg\n",
    "frames = cfg.frames"
   ]
  },
  {
   "cell_type": "code",
   "execution_count": 3,
   "metadata": {},
   "outputs": [],
   "source": [
    "test_ratio = 0.1\n",
    "all_file_name = 'data_all.txt'\n",
    "train_file_name = \"data_train.txt\"\n",
    "test_file_name = \"data_test.txt\""
   ]
  },
  {
   "cell_type": "code",
   "execution_count": 4,
   "metadata": {},
   "outputs": [],
   "source": [
    "dirs = os.walk(video_dir, followlinks = True)"
   ]
  },
  {
   "cell_type": "code",
   "execution_count": 5,
   "metadata": {},
   "outputs": [],
   "source": [
    "records = []"
   ]
  },
  {
   "cell_type": "code",
   "execution_count": 6,
   "metadata": {},
   "outputs": [
    {
     "name": "stdout",
     "output_type": "stream",
     "text": [
      "total tensors: 15818\n"
     ]
    }
   ],
   "source": [
    "for each_dir in dirs:\n",
    "    total_frame = len(os.listdir(os.path.join('data', each_dir)))\n",
    "    records.extend(\n",
    "        [','.join(os.path.join('data', each_dir, '{}.png'.format(i + j)) for j in range(frames))\n",
    "          for i in range(total_frame - frames + 1)]\n",
    "    )\n",
    "print('total tensors:', len(records))"
   ]
  },
  {
   "cell_type": "code",
   "execution_count": 7,
   "metadata": {},
   "outputs": [],
   "source": [
    "random.shuffle(records)\n",
    "\n",
    "# split into training set and test set\n",
    "total_num = len(records)\n",
    "test_num = int(test_ratio * total_num)\n",
    "train_num = total_num - test_num\n",
    "train_records = records[0:train_num]\n",
    "test_records = records[train_num:]"
   ]
  },
  {
   "cell_type": "code",
   "execution_count": 8,
   "metadata": {},
   "outputs": [],
   "source": [
    "# save to text file\n",
    "with open(all_file_name, 'w') as f:\n",
    "    f.writelines((i + '\\n' for i in records))\n",
    "with open(train_file_name, 'w') as f:\n",
    "    f.writelines((i + '\\n' for i in train_records))\n",
    "with open(test_file_name, 'w') as f:\n",
    "    f.writelines((i + '\\n' for i in test_records))"
   ]
  },
  {
   "cell_type": "code",
   "execution_count": null,
   "metadata": {},
   "outputs": [],
   "source": []
  }
 ],
 "metadata": {
  "kernelspec": {
   "display_name": "Python 3",
   "language": "python",
   "name": "python3"
  },
  "language_info": {
   "codemirror_mode": {
    "name": "ipython",
    "version": 3
   },
   "file_extension": ".py",
   "mimetype": "text/x-python",
   "name": "python",
   "nbconvert_exporter": "python",
   "pygments_lexer": "ipython3",
   "version": "3.5.2"
  }
 },
 "nbformat": 4,
 "nbformat_minor": 2
}
