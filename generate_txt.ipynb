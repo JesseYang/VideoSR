{
 "cells": [
  {
   "cell_type": "code",
   "execution_count": 1,
   "metadata": {},
   "outputs": [],
   "source": [
    "import random\n",
    "import yaml\n",
    "from pathlib import Path"
   ]
  },
  {
   "cell_type": "code",
   "execution_count": 2,
   "metadata": {},
   "outputs": [],
   "source": [
    "frames_per_seq = 5"
   ]
  },
  {
   "cell_type": "code",
   "execution_count": 3,
   "metadata": {},
   "outputs": [
    {
     "name": "stdout",
     "output_type": "stream",
     "text": [
      "{'data': {'MPI-Sintel_train_clean': {'prefix': 'frame_', 'path': 'frame_seq_data/MPI-Sintel/training/clean'}}}\n"
     ]
    }
   ],
   "source": [
    "with open('config.yaml') as f:\n",
    "    config = yaml.load(f)\n",
    "print(config)"
   ]
  },
  {
   "cell_type": "code",
   "execution_count": 32,
   "metadata": {
    "scrolled": true
   },
   "outputs": [
    {
     "name": "stdout",
     "output_type": "stream",
     "text": [
      "frame_seq_data/MPI-Sintel/training/clean/alley_1\n",
      "frame_seq_data/MPI-Sintel/training/clean/bamboo_2\n",
      "frame_seq_data/MPI-Sintel/training/clean/bandage_1\n",
      "frame_seq_data/MPI-Sintel/training/clean/market_2\n",
      "frame_seq_data/MPI-Sintel/training/clean/ambush_6\n",
      "frame_seq_data/MPI-Sintel/training/clean/bandage_2\n",
      "frame_seq_data/MPI-Sintel/training/clean/temple_2\n",
      "frame_seq_data/MPI-Sintel/training/clean/shaman_3\n",
      "frame_seq_data/MPI-Sintel/training/clean/ambush_5\n",
      "frame_seq_data/MPI-Sintel/training/clean/sleeping_2\n",
      "frame_seq_data/MPI-Sintel/training/clean/shaman_2\n",
      "frame_seq_data/MPI-Sintel/training/clean/ambush_7\n",
      "frame_seq_data/MPI-Sintel/training/clean/ambush_4\n",
      "frame_seq_data/MPI-Sintel/training/clean/sleeping_1\n",
      "frame_seq_data/MPI-Sintel/training/clean/bamboo_1\n",
      "frame_seq_data/MPI-Sintel/training/clean/ambush_2\n",
      "frame_seq_data/MPI-Sintel/training/clean/mountain_1\n",
      "frame_seq_data/MPI-Sintel/training/clean/market_5\n",
      "frame_seq_data/MPI-Sintel/training/clean/cave_2\n",
      "frame_seq_data/MPI-Sintel/training/clean/cave_4\n",
      "frame_seq_data/MPI-Sintel/training/clean/alley_2\n",
      "frame_seq_data/MPI-Sintel/training/clean/temple_3\n",
      "frame_seq_data/MPI-Sintel/training/clean/market_6\n"
     ]
    }
   ],
   "source": [
    "records = []\n",
    "for i in config['data']:\n",
    "    p = Path(config['data'][i]['path'])\n",
    "    prefix = ''\n",
    "    if 'prefix' in config['data'][i]:\n",
    "        prefix = config['data'][i]['prefix']\n",
    "\n",
    "    for dirname in p.iterdir():\n",
    "        files = list(dirname.iterdir())\n",
    "        files = sorted(files, key = lambda x: int(x.name[len(prefix):-len(x.suffix)]))\n",
    "        for i in range(len(frame_files) - frames_per_seq):\n",
    "            frame_seq = frame_files[i: i + frames_per_seq]\n",
    "            records.append('<split>'.join(str(frame_seq)))\n",
    "        print(dirname)\n"
   ]
  },
  {
   "cell_type": "code",
   "execution_count": 31,
   "metadata": {
    "scrolled": false
   },
   "outputs": [
    {
     "name": "stdout",
     "output_type": "stream",
     "text": [
      "total tensors: 805\n"
     ]
    }
   ],
   "source": [
    "print('total tensors:', len(records))"
   ]
  },
  {
   "cell_type": "code",
   "execution_count": 31,
   "metadata": {},
   "outputs": [],
   "source": [
    "random.shuffle(records)\n",
    "test_ratio = 0.1\n",
    "# split into training set and test set\n",
    "total_num = len(records)\n",
    "test_num = int(test_ratio * total_num)\n",
    "train_num = total_num - test_num\n",
    "train_records = records[0:train_num]\n",
    "test_records = records[train_num:]"
   ]
  },
  {
   "cell_type": "code",
   "execution_count": 32,
   "metadata": {},
   "outputs": [],
   "source": [
    "all_file_name = 'data_all.txt'\n",
    "train_file_name = 'data_train.txt'\n",
    "test_file_name = 'data_test.txt'"
   ]
  },
  {
   "cell_type": "code",
   "execution_count": 33,
   "metadata": {},
   "outputs": [],
   "source": [
    "# save to text file\n",
    "with open(all_file_name, 'w') as f:\n",
    "    f.writelines((i + '\\n' for i in records))\n",
    "with open(train_file_name, 'w') as f:\n",
    "    f.writelines((i + '\\n' for i in train_records))\n",
    "with open(test_file_name, 'w') as f:\n",
    "    f.writelines((i + '\\n' for i in test_records))"
   ]
  },
  {
   "cell_type": "code",
   "execution_count": null,
   "metadata": {},
   "outputs": [],
   "source": []
  }
 ],
 "metadata": {
  "kernelspec": {
   "display_name": "Python 3",
   "language": "python",
   "name": "python3"
  },
  "language_info": {
   "codemirror_mode": {
    "name": "ipython",
    "version": 3
   },
   "file_extension": ".py",
   "mimetype": "text/x-python",
   "name": "python",
   "nbconvert_exporter": "python",
   "pygments_lexer": "ipython3",
   "version": "3.5.2"
  }
 },
 "nbformat": 4,
 "nbformat_minor": 2
}
