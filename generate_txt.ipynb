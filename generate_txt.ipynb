{
 "cells": [
  {
   "cell_type": "code",
   "execution_count": 16,
   "metadata": {},
   "outputs": [],
   "source": [
    "import os\n",
    "import random"
   ]
  },
  {
   "cell_type": "code",
   "execution_count": 17,
   "metadata": {},
   "outputs": [],
   "source": [
    "test_ratio = 0.1\n",
    "all_file_name = 'data_all.txt'\n",
    "train_file_name = \"data_train.txt\"\n",
    "test_file_name = \"data_test.txt\""
   ]
  },
  {
   "cell_type": "code",
   "execution_count": 18,
   "metadata": {},
   "outputs": [],
   "source": [
    "dirs = os.listdir('data')"
   ]
  },
  {
   "cell_type": "code",
   "execution_count": 19,
   "metadata": {},
   "outputs": [],
   "source": [
    "records = []"
   ]
  },
  {
   "cell_type": "code",
   "execution_count": 20,
   "metadata": {},
   "outputs": [
    {
     "name": "stdout",
     "output_type": "stream",
     "text": [
      "total tensors: 15866\n"
     ]
    }
   ],
   "source": [
    "for each_dir in dirs:\n",
    "    total_frame = len(os.listdir(os.path.join('data', each_dir)))\n",
    "    records.extend(['{}\\t{}\\n'.format(os.path.join('data', each_dir, '{}.png'.format(i)), os.path.join('data', each_dir, '{}.png'.format(i + 1))) for i in range(total_frame - 1)])\n",
    "print('total tensors:', len(records))"
   ]
  },
  {
   "cell_type": "code",
   "execution_count": 21,
   "metadata": {},
   "outputs": [],
   "source": [
    "random.shuffle(records)\n",
    "\n",
    "# split into training set and test set\n",
    "total_num = len(records)\n",
    "test_num = int(test_ratio * total_num)\n",
    "train_num = total_num - test_num\n",
    "train_records = records[0:train_num]\n",
    "test_records = records[train_num:]"
   ]
  },
  {
   "cell_type": "code",
   "execution_count": 22,
   "metadata": {},
   "outputs": [],
   "source": [
    "# save to text file\n",
    "all_out_file = open(all_file_name, 'w')\n",
    "for record in records:\n",
    "    all_out_file.write(record)\n",
    "all_out_file.close()\n",
    "    \n",
    "train_out_file = open(train_file_name, 'w')\n",
    "for record in train_records:\n",
    "    train_out_file.write(record)\n",
    "train_out_file.close()\n",
    "\n",
    "test_out_file = open(test_file_name, 'w')\n",
    "for record in test_records:\n",
    "    test_out_file.write(record)\n",
    "test_out_file.close()"
   ]
  },
  {
   "cell_type": "code",
   "execution_count": null,
   "metadata": {},
   "outputs": [],
   "source": []
  }
 ],
 "metadata": {
  "kernelspec": {
   "display_name": "Python 3",
   "language": "python",
   "name": "python3"
  },
  "language_info": {
   "codemirror_mode": {
    "name": "ipython",
    "version": 3
   },
   "file_extension": ".py",
   "mimetype": "text/x-python",
   "name": "python",
   "nbconvert_exporter": "python",
   "pygments_lexer": "ipython3",
   "version": "3.5.2"
  }
 },
 "nbformat": 4,
 "nbformat_minor": 2
}
